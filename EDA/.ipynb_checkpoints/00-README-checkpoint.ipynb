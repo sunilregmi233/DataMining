{
 "cells": [
  {
   "cell_type": "markdown",
   "metadata": {},
   "source": [
    "# Introduction"
   ]
  },
  {
   "cell_type": "markdown",
   "metadata": {},
   "source": [
    "Welcome to the course! This notebook will outline our structure for the course, and introduce you to the notebook if you haven't used it before."
   ]
  },
  {
   "cell_type": "markdown",
   "metadata": {},
   "source": [
    "## Background Expectations\n",
    "\n",
    "- Hopefully you have used Python before, if not, don't worry \n",
    "- Experience with NumPy will be helpful, but not required\n",
    "- Pandas will be the primary focus\n",
    "- We'll see bits of matplot and seaborn"
   ]
  },
  {
   "cell_type": "markdown",
   "metadata": {},
   "source": [
    "## Course Presentation\n",
    "\n",
    "- I will have slides\n",
    "- We'll work through notebooks (execute each cell)\n",
    "- The **slide title** will match the **notebook section**"
   ]
  },
  {
   "cell_type": "markdown",
   "metadata": {},
   "source": [
    "## Jupyter Notebook\n",
    "\n",
    "> The Jupyter Notebook is a web application that allows you to create and share documents that contain live code, equations, visualizations and explanatory text.\n",
    "\n",
    "- Two Modes: Edit and Command\n",
    "- Command -> Edit: `Enter`\n",
    "- Edit -> Command: `Esc`\n",
    "- Execute a Cell: `Shift+Enter`\n",
    "- Down: `j/Down Arrow`\n",
    "- Up: `k/Up Arrow`"
   ]
  },
  {
   "cell_type": "markdown",
   "metadata": {},
   "source": [
    "## Tab Completion\n",
    "\n",
    "IPython will tab complete method names and function arguments\n",
    "\n",
    "Use `shift+tab` to inside a function call to show the signature"
   ]
  },
  {
   "cell_type": "code",
   "execution_count": 13,
   "metadata": {},
   "outputs": [
    {
     "ename": "NameError",
     "evalue": "name 'Introduction' is not defined",
     "output_type": "error",
     "traceback": [
      "\u001b[1;31m---------------------------------------------------------------------------\u001b[0m",
      "\u001b[1;31mNameError\u001b[0m                                 Traceback (most recent call last)",
      "\u001b[1;32m<ipython-input-13-13a5b52da87d>\u001b[0m in \u001b[0;36m<module>\u001b[1;34m()\u001b[0m\n\u001b[0;32m      1\u001b[0m \u001b[1;31m## Notebooks\u001b[0m\u001b[1;33m\u001b[0m\u001b[1;33m\u001b[0m\u001b[0m\n\u001b[0;32m      2\u001b[0m \u001b[1;33m\u001b[0m\u001b[0m\n\u001b[1;32m----> 3\u001b[1;33m \u001b[1;36m1.\u001b[0m \u001b[1;33m[\u001b[0m\u001b[0mIntroduction\u001b[0m\u001b[1;33m]\u001b[0m\u001b[1;33m(\u001b[0m\u001b[1;36m1\u001b[0m\u001b[1;33m-\u001b[0m\u001b[0mIntroduction\u001b[0m\u001b[1;33m.\u001b[0m\u001b[0mipynb\u001b[0m\u001b[1;33m)\u001b[0m\u001b[1;33m\u001b[0m\u001b[0m\n\u001b[0m\u001b[0;32m      4\u001b[0m \u001b[1;36m2.\u001b[0m \u001b[1;33m[\u001b[0m\u001b[0mConda\u001b[0m\u001b[1;33m-\u001b[0m\u001b[0mEnvironment\u001b[0m\u001b[1;33m]\u001b[0m\u001b[1;33m(\u001b[0m\u001b[1;36m2\u001b[0m\u001b[1;33m-\u001b[0m\u001b[0mConda\u001b[0m\u001b[1;33m-\u001b[0m\u001b[0mEnvironment\u001b[0m\u001b[1;33m.\u001b[0m\u001b[0mipynb\u001b[0m\u001b[1;33m)\u001b[0m\u001b[1;33m\u001b[0m\u001b[0m\n\u001b[0;32m      5\u001b[0m \u001b[1;36m3.\u001b[0m \u001b[1;33m[\u001b[0m\u001b[0mPandas\u001b[0m\u001b[1;33m-\u001b[0m\u001b[0mRefresher\u001b[0m\u001b[1;33m]\u001b[0m\u001b[1;33m(\u001b[0m\u001b[1;36m3\u001b[0m\u001b[1;33m-\u001b[0m\u001b[0mPandas\u001b[0m\u001b[1;33m.\u001b[0m\u001b[0mipynb\u001b[0m\u001b[1;33m)\u001b[0m\u001b[1;33m\u001b[0m\u001b[0m\n",
      "\u001b[1;31mNameError\u001b[0m: name 'Introduction' is not defined"
     ]
    }
   ],
   "source": [
    "## Notebooks\n",
    "\n",
    "1. [Introduction](1-Introduction.ipynb)\n",
    "2. [Conda-Environment](2-Conda-Environment.ipynb)\n",
    "3. [Pandas-Refresher](3-Pandas.ipynb)\n",
    "4. [Univariate-Analysis](4-Univariate-Analysis.ipynb)\n",
    "5. [Bivariate-Analysis](5-Bivariate-Analysis.ipynb)\n",
    "6. [Missing-Values](6-Missing-Values.ipynb)\n",
    "7. [Outliers](7-Outliers.ipynb)\n",
    "8. [Conclusion](8-Conclusion.ipynb)\n",
    "    "
   ]
  },
  {
   "cell_type": "code",
   "execution_count": null,
   "metadata": {
    "collapsed": true
   },
   "outputs": [],
   "source": []
  }
 ],
 "metadata": {
  "kernelspec": {
   "display_name": "Python 3",
   "language": "python",
   "name": "python3"
  },
  "language_info": {
   "codemirror_mode": {
    "name": "ipython",
    "version": 3
   },
   "file_extension": ".py",
   "mimetype": "text/x-python",
   "name": "python",
   "nbconvert_exporter": "python",
   "pygments_lexer": "ipython3",
   "version": "3.6.2"
  }
 },
 "nbformat": 4,
 "nbformat_minor": 2
}
