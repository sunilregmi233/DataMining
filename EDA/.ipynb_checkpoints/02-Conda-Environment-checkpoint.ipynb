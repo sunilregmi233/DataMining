{
 "cells": [
  {
   "cell_type": "markdown",
   "metadata": {
    "collapsed": true
   },
   "source": [
    "## Set-up Overview"
   ]
  },
  {
   "cell_type": "markdown",
   "metadata": {},
   "source": [
    "- Use python 3.6 from anaconda distribution. \n",
    "- Download Continuum Anaconda (free version, approx. 400MB), python 3, 64 bits.I nstall it using the default settings for a single user.\n",
    "- Jupyter notebook for interactive analysis and very good for sharing code. It runs within the browser and enables you to interactively modify the code."
   ]
  },
  {
   "cell_type": "markdown",
   "metadata": {},
   "source": [
    "## Environment Setup\n",
    "\n",
    "- Install python from anaconda.\n",
    "- Then open anaconda prompt\n",
    "- Check conda is installed and in your PATH : `conda -V`\n",
    "- Check conda is up to date: `conda update conda`\n",
    "- Check the python version installed: `python --version`\n",
    "- Enter the python shell: `python`\n",
    "- go back to the command prompt: `quit()`\n",
    "    \n",
    " \n",
    "## Create and Activate virtual environment for your project\n",
    "Useful to have multiple versions of different packages/python version on the same system without getting conflict with each other. Used for different projects. Keeps everything clean\n",
    "\n",
    "- Create the environment\n",
    "    - `conda create --name [environment-name] [python-version] --flag(specify what to install)`\n",
    "    - `conda create –name dataanalysis-py36 python=3.6 --yes`\n",
    "- Activate the environment\n",
    "    - `source activate [environment-name] (linux/macOS)`\n",
    "    - `source activate dataanalysis-py36`\n",
    "- Activate [environmentname] #windows\n",
    "    - `activate dataanalysis-py36`\n",
    "- Install additional Python packages to a virtual environment.\n",
    "\t- `conda install -n yourenvname [package]`\n",
    "    - `conda install pandas #for root installation`\t\n",
    "- Install library from file\n",
    "    - `conda install --file [filename] --flag`\n",
    "    - `conda install --file conda.txt --yes`\n",
    "- Deactivate the conda environment\n",
    "    - `Source deactivate [environmentname] #linux/macOS`\n",
    "    - `source deactivate dataanalysis-py36`\n",
    "    - `deactivate [environmentname] #Windows`\n",
    "    - `deactivate dataanalysis-py36`\n",
    "- Delete a no longer needed virtual environment\n",
    "    - `conda remove -n yourenvname –all`\n",
    "- Open notebook inside the python prompt\n",
    "    - `jupyter notebook`\n",
    "- Update Jupyter\n",
    "\t- `conda update jupyter`\n",
    "- To Open Spyder from Anaconda Prompt\n",
    "\t- `start spyder`"
   ]
  },
  {
   "cell_type": "markdown",
   "metadata": {},
   "source": [
    "## Jupyter Notebook\n",
    "- Notebook documents (or “notebooks”) are documents produced by the Jupyter Notebook App, which contain both computer code (e.g. python) and rich text elements (paragraph, equations, figures, links, etc...). Notebook documents are both human-readable documents containing the analysis description and the results (figures, tables, etc..) as well as executable documents which can be run to perform data analysis.\n",
    "\n",
    "- Jupyter Notebook App is a server-client application that allows editing and running notebook documents via a web browser. The Jupyter Notebook App can be executed on a local desktop requiring no internet access or can be installed on a remote server and accessed through the internet.\n",
    "\n",
    "- In addition to displaying/editing/running notebook documents, the Jupyter Notebook App has a “Dashboard” (Notebook Dashboard), a “control panel” showing local files and allowing to open notebook documents or shutting down their kernels.\n",
    "\n",
    "- A notebook kernel is a “computational engine” that executes the code contained in a Notebook document. The ipython kernel, executes python code.\n",
    "\n",
    "- When you open a Notebook document, the associated kernel is automatically launched. When the notebook is executed (either cell-by-cell or with menu Cell -> Run All), the kernel performs the computation and produces the results. NB: the RAM is not released until the kernel is shut-down.\n",
    "\n",
    "- The Notebook Dashboard is the component which is shown first when you launch Jupyter Notebook App. The Notebook Dashboard is mainly used to open notebook documents, and to manage the running kernels (visualize and shutdown).\n",
    "\n",
    "### Running the Notebook\n",
    "- Launching Jupyter Notebook App: jupyter notebook\n",
    "    - This will launch a new browser window showing the Notebook Dashboard.\n",
    "    - When started, the Jupyter Notebook App can access only files within its start-up folder (including any sub-folder). If you store the notebook documents in a subfolder of your user folder no configuration is necessary. Otherwise, you need to choose a folder which will contain all the notebooks and set this as the Jupyter Notebook App start-up folder.\n",
    "\n",
    "- Change Jupyter Notebook startup folder (Windows)\n",
    "    - Copy the Jupyter Notebook launcher from the menu to the desktop.\n",
    "    - Right click on the new launcher , properties and change the Target field, change %USERPROFILE% to the full path of the folder which will contain all the notebooks.\n",
    "    - Double-click on the Jupyter Notebook desktop launcher to start the Jupyter Notebook App, which will open in a new browser window (or tab). Note also that a secondary terminal window (used only for error logging and for shut down) will be also opened. If only the terminal starts, try opening this address with your browser: http://localhost:8888/.\n",
    "\n",
    "- Shut down the Jupyter Notebook App\n",
    "    - Closing the browser (or the tab) will not close the Jupyter Notebook App. To completely shut it down you need to close the associated terminal.\n",
    "    - The Jupyter Notebook App is a server that appears in your browser at a default address (http://localhost:8888). Closing the browser will not shut down the server. You can reopen the previous address and the Jupyter Notebook App will be redisplayed.\n",
    "    - You can run many copies of the Jupyter Notebook App and they will show up at a similar address (only the number after ”:”, which is the port, will increment for each new copy). Since with a single Jupyter Notebook App you can already open many notebooks, we do not recommend running multiple copies of Jupyter Notebook App.\n",
    "\n",
    "- Close a notebook: kernel shut down\n",
    "    - When a notebook is opened, its “computational engine” (kernel) is automatically started. Closing the notebook browser tab, will not shut down the kernel, instead the kernel will keep running until is explicitly shut down.\n",
    "    - To shut down a kernel, go to the associated notebook and click on menu File -> Close and Halt. Alternatively, the Notebook Dashboard has a tab named Running that shows all the running notebooks (i.e. kernels) and allows shutting them down (by clicking on a Shutdown button).\n",
    "\n",
    "- Executing a notebook\n",
    "Download the notebook you want to execute and put it in your notebook folder (or a sub-folder of it).\n",
    "    1. Launch the Jupyter Notebook App.\n",
    "    2. In the Notebook Dashboard navigate to find the notebook: clicking on its name will open it in a new browser tab.\n",
    "    3. You can run the notebook document step-by-step (one cell a time) by pressing shift + enter.\n",
    "    4. You can run the whole notebook in a single step by clicking on the menu Cell -> Run All.\n",
    "    5. To restart the kernel ,click on the menu Kernel -> Restart. This can be useful to start over a computation from scratch (e.g. variables are deleted, open files are closed, etc...).\n",
    "\n"
   ]
  },
  {
   "cell_type": "code",
   "execution_count": null,
   "metadata": {
    "collapsed": true
   },
   "outputs": [],
   "source": []
  }
 ],
 "metadata": {
  "kernelspec": {
   "display_name": "Python 3",
   "language": "python",
   "name": "python3"
  },
  "language_info": {
   "codemirror_mode": {
    "name": "ipython",
    "version": 3
   },
   "file_extension": ".py",
   "mimetype": "text/x-python",
   "name": "python",
   "nbconvert_exporter": "python",
   "pygments_lexer": "ipython3",
   "version": "3.6.2"
  }
 },
 "nbformat": 4,
 "nbformat_minor": 2
}
