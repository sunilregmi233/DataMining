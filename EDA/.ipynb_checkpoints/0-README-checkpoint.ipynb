{
 "cells": [
  {
   "cell_type": "markdown",
   "metadata": {},
   "source": [
    "# Welcome"
   ]
  },
  {
   "cell_type": "markdown",
   "metadata": {},
   "source": [
    "Welcome to the course! This notebook will outline our structure for the course, and introduce you to the notebook if you haven't used it before."
   ]
  },
  {
   "cell_type": "markdown",
   "metadata": {},
   "source": [
    "## Background Expectations\n",
    "\n",
    "- Hopefully you have used Python before, if not, don't worry \n",
    "- Experience with Pandas will be helpful, but not required\n",
    "- Data exploration will be the primary focus\n",
    "- We'll see bits of matplot and seaborn"
   ]
  },
  {
   "cell_type": "markdown",
   "metadata": {},
   "source": [
    "## Course Presentation\n",
    "\n",
    "- I will have slides\n",
    "- We will work through notebooks (execute each cell)\n",
    "- The **slide title** will match the **notebook section**"
   ]
  },
  {
   "cell_type": "markdown",
   "metadata": {},
   "source": [
    "## Notebooks\n",
    "1. [Introduction](1-Introduction.ipynb)\n",
    "2. [Conda Environment](2-Conda-Environment.ipynb)\n",
    "3. [Pandas Refresher](3-Pandas.ipynb)\n",
    "4. [Univariate Analysis](4-Univariate-Analysis.ipynb)\n",
    "5. [Bivariate Analysis](5-Bivariate-Analysis.ipynb)\n",
    "6. [Missing Values](6-Missing-Values.ipynb)\n",
    "7. [Outliers](7-Outliers.ipynb)\n",
    "8. [Conclusion](8-Conclusion.ipynb)\n"
   ]
  }
 ],
 "metadata": {
  "kernelspec": {
   "display_name": "Python 3",
   "language": "python",
   "name": "python3"
  },
  "language_info": {
   "codemirror_mode": {
    "name": "ipython",
    "version": 3
   },
   "file_extension": ".py",
   "mimetype": "text/x-python",
   "name": "python",
   "nbconvert_exporter": "python",
   "pygments_lexer": "ipython3",
   "version": "3.6.2"
  }
 },
 "nbformat": 4,
 "nbformat_minor": 2
}
